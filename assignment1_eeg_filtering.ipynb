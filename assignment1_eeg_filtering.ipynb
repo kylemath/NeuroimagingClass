{
  "cells": [
    {
      "cell_type": "markdown",
      "metadata": {},
      "source": [
        "# 🧠 Assignment 1: EEG Data Loading and Basic Filtering\n",
        "\n",
        "**PSYCH 403A1 - Neuroimaging and Neurostimulation**  \n",
        "**Due: September 22, 2025**\n",
        "\n",
        "## 🎯 What You'll Learn (In Plain English!)\n",
        "Think of this assignment like cleaning up a noisy radio signal to hear your favorite song better! By the end, you'll be able to:\n",
        "\n",
        "- 📥 **Load brain wave recordings** (like opening an audio file, but for brain signals!)\n",
        "- 🔍 **Understand what EEG signals look like** (spoiler: they're very squiggly!)\n",
        "- 🔧 **Apply digital \"filters\"** (like noise-canceling headphones for brain data)\n",
        "- 📊 **Create beautiful scientific plots** (that you'll be proud to show off!)\n",
        "- 🌈 **Make colorful frequency charts** (showing which brain wave \"notes\" are strongest)\n",
        "\n",
        "## 🎵 The Brain Wave \"Music\" Analogy\n",
        "- **Raw EEG = Noisy Radio:** Lots of static mixed with the signal\n",
        "- **Filtering = Noise Cancellation:** Removes the \"hiss\" to hear the music clearly  \n",
        "- **Frequency Analysis = Music Equalizer:** Shows which \"notes\" (frequencies) are loudest\n",
        "- **Multiple Channels = Orchestra:** Each electrode is like a different instrument\n",
        "\n",
        "## 📊 About Our Data\n",
        "We're using **real brain recordings** from people doing a memory task:\n",
        "- **64 \"microphones\"** placed on the scalp (called electrodes)\n",
        "- **500 measurements per second** (like a very fast camera for brain activity)\n",
        "- **Safe & non-invasive** (just like wearing a swimming cap with sensors)\n",
        "\n",
        "💡 **Don't worry about the technical details** - we'll explain everything step by step!\n"
      ]
    },
    {
      "cell_type": "markdown",
      "metadata": {},
      "source": [
        "## 🛠️ Step 1: Getting Your Toolbox Ready\n",
        "\n",
        "Think of this like getting your art supplies before painting! We need to gather our \"digital tools\" for brain data analysis.\n",
        "\n",
        "### What We're Installing:\n",
        "- **MNE-Python** 🧠: The brain data expert (like Photoshop, but for brain signals)\n",
        "- **Matplotlib** 🎨: Our artist for making beautiful plots  \n",
        "- **NumPy** 🔢: The math wizard that does calculations super fast\n",
        "- **SciPy** ⚗️: Extra science tools for advanced analysis\n",
        "\n",
        "📱 **Mobile/Tablet Users:** This might take 1-2 minutes the first time - perfect time for a coffee break! ☕\n"
      ]
    },
    {
      "cell_type": "code",
      "execution_count": null,
      "metadata": {},
      "outputs": [
        {
          "name": "stdout",
          "output_type": "stream",
          "text": [
            "🔧 Setting up your brain data analysis toolkit...\n",
            "📱 Mobile users: This is the perfect time to grab some water! 💧\n"
          ]
        },
        {
          "ename": "ModuleNotFoundError",
          "evalue": "No module named 'mne'",
          "output_type": "error",
          "traceback": [
            "\u001b[0;31m---------------------------------------------------------------------------\u001b[0m",
            "\u001b[0;31mModuleNotFoundError\u001b[0m                       Traceback (most recent call last)",
            "Cell \u001b[0;32mIn[1], line 11\u001b[0m\n\u001b[1;32m      5\u001b[0m \u001b[38;5;28mprint\u001b[39m(\u001b[38;5;124m\"\u001b[39m\u001b[38;5;124m📱 Mobile users: This is the perfect time to grab some water! 💧\u001b[39m\u001b[38;5;124m\"\u001b[39m)\n\u001b[1;32m      7\u001b[0m \u001b[38;5;66;03m# Install packages (automatically handled in Binder, but here for reference)\u001b[39;00m\n\u001b[1;32m      8\u001b[0m \u001b[38;5;66;03m# !pip install mne matplotlib numpy scipy requests\u001b[39;00m\n\u001b[1;32m      9\u001b[0m \n\u001b[1;32m     10\u001b[0m \u001b[38;5;66;03m# Import our \"tools\" (like getting your paintbrushes ready)\u001b[39;00m\n\u001b[0;32m---> 11\u001b[0m \u001b[38;5;28;01mimport\u001b[39;00m\u001b[38;5;250m \u001b[39m\u001b[38;5;21;01mmne\u001b[39;00m                    \u001b[38;5;66;03m# 🧠 The brain data expert\u001b[39;00m\n\u001b[1;32m     12\u001b[0m \u001b[38;5;28;01mimport\u001b[39;00m\u001b[38;5;250m \u001b[39m\u001b[38;5;21;01mnumpy\u001b[39;00m\u001b[38;5;250m \u001b[39m\u001b[38;5;28;01mas\u001b[39;00m\u001b[38;5;250m \u001b[39m\u001b[38;5;21;01mnp\u001b[39;00m            \u001b[38;5;66;03m# 🔢 The math wizard  \u001b[39;00m\n\u001b[1;32m     13\u001b[0m \u001b[38;5;28;01mimport\u001b[39;00m\u001b[38;5;250m \u001b[39m\u001b[38;5;21;01mmatplotlib\u001b[39;00m\u001b[38;5;21;01m.\u001b[39;00m\u001b[38;5;21;01mpyplot\u001b[39;00m\u001b[38;5;250m \u001b[39m\u001b[38;5;28;01mas\u001b[39;00m\u001b[38;5;250m \u001b[39m\u001b[38;5;21;01mplt\u001b[39;00m  \u001b[38;5;66;03m# 🎨 Our plotting artist\u001b[39;00m\n",
            "\u001b[0;31mModuleNotFoundError\u001b[0m: No module named 'mne'"
          ]
        }
      ],
      "source": [
        "# 🎯 STEP 1: Import our digital toolbox!\n",
        "# Think of this like getting your cooking utensils before making a meal\n",
        "\n",
        "print(\"🔧 Setting up your brain data analysis toolkit...\")\n",
        "print(\"📱 Mobile users: This is the perfect time to grab some water! 💧\")\n",
        "\n",
        "# Check if we're in Google Colab and install packages if needed\n",
        "try:\n",
        "    import google.colab\n",
        "    print(\"🤖 Detected Google Colab - installing packages...\")\n",
        "    %pip install -q mne\n",
        "    print(\"✅ Packages installed!\")\n",
        "except ImportError:\n",
        "    print(\"🌐 Running in Binder or local environment - packages should already be available!\")\n",
        "\n",
        "# Import our \"tools\" (like getting your paintbrushes ready)\n",
        "import mne                    # 🧠 The brain data expert\n",
        "import numpy as np            # 🔢 The math wizard  \n",
        "import matplotlib.pyplot as plt  # 🎨 Our plotting artist\n",
        "from scipy import signal     # ⚗️ Extra science tools\n",
        "import requests              # 📡 For downloading data\n",
        "import os                    # 📁 File management helper\n",
        "from pathlib import Path     # 🗂️ Better file handling\n",
        "\n",
        "# Make our plots look beautiful and mobile-friendly\n",
        "plt.rcParams['figure.figsize'] = (10, 6)  # Good size for phones/tablets\n",
        "plt.rcParams['font.size'] = 11            # Readable text size\n",
        "plt.rcParams['lines.linewidth'] = 1.5     # Nice thick lines\n",
        "mne.set_log_level('WARNING')               # Less technical chatter\n",
        "\n",
        "print(\"✅ SUCCESS! All tools loaded and ready to go!\")\n",
        "print(f\"🧠 MNE-Python version: {mne.__version__}\")\n",
        "print(f\"🔢 NumPy version: {np.__version__}\")\n",
        "print(\"🎉 You're all set to analyze some brain waves! 🎉\")\n",
        "\n",
        "# 🤖 Google Colab AI Tip: \n",
        "# Click the \"✨\" button next to any code cell to get AI help!\n",
        "# You can ask questions like \"What does this code do?\" or \"How do I modify this?\"\n"
      ]
    },
    {
      "cell_type": "markdown",
      "metadata": {},
      "source": [
        "## 📥 Step 2: Loading Your Brain Wave \"Music File\"\n",
        "\n",
        "Now for the exciting part - getting some real brain data! This is like downloading a song, but instead of music, we're getting brain wave recordings.\n",
        "\n",
        "### 🎵 What We're Loading:\n",
        "- **Real EEG data** from the MNE sample dataset (built-in, no downloads needed!)\n",
        "- **Multiple \"channels\"** (like having multiple microphones recording different parts of the brain)\n",
        "- **Continuous recording** (like a very long song of brain activity)\n",
        "\n",
        "### 🔍 What You'll See:\n",
        "- **Lots of squiggly lines** (that's normal - brains are busy!)\n",
        "- **Different patterns** (some fast wiggles, some slow waves)\n",
        "- **Multiple colors** (each representing a different electrode location)\n",
        "\n",
        "📱 **Pro Tip:** On mobile, you can pinch-to-zoom on any plot to see details better!\n"
      ]
    },
    {
      "cell_type": "code",
      "execution_count": null,
      "metadata": {},
      "outputs": [],
      "source": [
        "# 🎯 STEP 2: Load some real brain wave data!\n",
        "# This is like opening a music file, but instead of songs, we get brain signals!\n",
        "\n",
        "print(\"📥 Loading brain wave data (this might take a moment)...\")\n",
        "print(\"☕ Perfect time to stretch if you're on mobile!\")\n",
        "\n",
        "# Get the sample dataset (automatically downloads the first time)\n",
        "# Think of this like having Spotify download a song for offline listening\n",
        "sample_data_folder = mne.datasets.sample.data_path()\n",
        "\n",
        "# Load the actual brain recording file \n",
        "# This is like clicking \"play\" on your brain wave \"song\"\n",
        "raw_file = sample_data_folder / 'MEG' / 'sample' / 'sample_audvis_raw.fif'\n",
        "raw = mne.io.read_raw_fif(raw_file, preload=True)\n",
        "\n",
        "# Let's pick just the EEG channels (the brain wave \"instruments\")\n",
        "# This removes other types of sensors we don't need for this assignment\n",
        "raw.pick_types(meg=False, eeg=True, stim=False, exclude='bads')\n",
        "\n",
        "print(\"✅ SUCCESS! Brain data loaded!\")\n",
        "print(f\"📊 Data info:\")\n",
        "print(f\"   🎵 Length: {raw.times[-1]:.1f} seconds of brain activity\")\n",
        "print(f\"   🎤 Channels: {len(raw.ch_names)} EEG electrodes\")\n",
        "print(f\"   ⚡ Sampling rate: {raw.info['sfreq']:.0f} measurements per second\")\n",
        "print(\"🧠 Ready to explore some brain waves! 🧠\")\n"
      ]
    },
    {
      "cell_type": "markdown",
      "metadata": {},
      "source": [
        "## 🤖 Using AI Help in Google Colab (Super Useful!)\n",
        "\n",
        "If you're using Google Colab, you have access to amazing AI assistance! Here's how to use it:\n",
        "\n",
        "### 🎯 Getting AI Help:\n",
        "1. **✨ Magic Button:** Look for the \"✨\" button next to code cells - click it for instant AI help!\n",
        "2. **Ask Questions:** You can ask things like:\n",
        "   - \"What does this code do?\"\n",
        "   - \"Why am I getting this error?\"\n",
        "   - \"How do I modify this to plot different data?\"\n",
        "   - \"Explain this brain wave analysis step\"\n",
        "\n",
        "### 🔧 AI for Debugging:\n",
        "- When you get an error, copy the error message and ask the AI \"What's wrong here?\"\n",
        "- The AI can usually explain errors in simple terms and suggest fixes\n",
        "\n",
        "### 💡 Learning with AI:\n",
        "- Ask \"Explain this like I'm 5\" for complex concepts\n",
        "- Request \"Show me a simpler version of this code\"\n",
        "- Get explanations of scientific concepts: \"What are brain waves?\"\n",
        "\n",
        "### 📱 Mobile Users:\n",
        "- **Tap and hold** on code cells to access AI options\n",
        "- Use voice input to ask questions if typing is difficult\n",
        "\n",
        "**Remember:** The AI is there to help you learn, not do the work for you. Use it to understand concepts better!\n"
      ]
    }
  ],
  "metadata": {
    "kernelspec": {
      "display_name": "Python 3",
      "language": "python",
      "name": "python3"
    },
    "language_info": {
      "codemirror_mode": {
        "name": "ipython",
        "version": 3
      },
      "file_extension": ".py",
      "mimetype": "text/x-python",
      "name": "python",
      "nbconvert_exporter": "python",
      "pygments_lexer": "ipython3",
      "version": "3.9.6"
    }
  },
  "nbformat": 4,
  "nbformat_minor": 2
}
