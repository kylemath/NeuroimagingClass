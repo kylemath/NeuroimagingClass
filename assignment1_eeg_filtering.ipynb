{
  "cells": [
    {
      "cell_type": "markdown",
      "metadata": {},
      "source": [
        "# Assignment 1: EEG Data Loading and Basic Filtering\n",
        "\n",
        "**PSYCH 403A1 - Neuroimaging and Neurostimulation**  \n",
        "**Due: September 22, 2025**\n",
        "\n",
        "## Learning Objectives\n",
        "By completing this assignment, you will:\n",
        "- Load real EEG data in BIDS format\n",
        "- Understand basic EEG signal characteristics\n",
        "- Apply digital filters to neuroimaging data\n",
        "- Create publication-quality scientific plots\n",
        "- Calculate and interpret power spectral density\n",
        "\n",
        "## Dataset Information\n",
        "We'll use the **OpenNeuro ds003061** dataset: *EEG during Visual Working Memory*\n",
        "- **Paper**: [Pavlov & Kotchoubey (2020)](https://doi.org/10.1038/s41597-020-00756-3)\n",
        "- **Task**: Visual working memory with different memory loads\n",
        "- **EEG**: 64 channels, 500 Hz sampling rate\n",
        "- **Format**: EEGLAB .set files (BIDS compliant)\n"
      ]
    },
    {
      "cell_type": "markdown",
      "metadata": {},
      "source": [
        "## Step 1: Setup and Installation\n",
        "\n",
        "First, let's install the required packages. MNE-Python is the main library for EEG/MEG analysis.\n"
      ]
    },
    {
      "cell_type": "code",
      "execution_count": null,
      "metadata": {},
      "outputs": [],
      "source": [
        "# Install required packages (uncomment if running locally or in cloud environment)\n",
        "# !pip install mne matplotlib numpy scipy requests\n",
        "\n",
        "# Import libraries\n",
        "import mne\n",
        "import numpy as np\n",
        "import matplotlib.pyplot as plt\n",
        "from scipy import signal\n",
        "import requests\n",
        "import os\n",
        "from pathlib import Path\n",
        "\n",
        "# Set up plotting parameters\n",
        "plt.rcParams['figure.figsize'] = (12, 8)\n",
        "plt.rcParams['font.size'] = 12\n",
        "mne.set_log_level('WARNING')  # Reduce MNE output verbosity\n",
        "\n",
        "print(\"Libraries imported successfully!\")\n",
        "print(f\"MNE version: {mne.__version__}\")\n",
        "print(f\"NumPy version: {np.__version__}\")\n"
      ]
    }
  ],
  "metadata": {
    "language_info": {
      "name": "python"
    }
  },
  "nbformat": 4,
  "nbformat_minor": 2
}
